{
  "cells": [
    {
      "cell_type": "markdown",
      "metadata": {
        "id": "view-in-github",
        "colab_type": "text"
      },
      "source": [
        "<a href=\"https://colab.research.google.com/github/Chinjuj2017/Chinjuj2017/blob/main/cross_entropy__QLoRA_testing.ipynb\" target=\"_parent\"><img src=\"https://colab.research.google.com/assets/colab-badge.svg\" alt=\"Open In Colab\"/></a>"
      ]
    },
    {
      "cell_type": "markdown",
      "metadata": {
        "id": "TAlBvvDDCM0q"
      },
      "source": [
        "## **Q-LoRA based fine-tuning of  PT5-XL-UniRef50 for multiclass classification**"
      ]
    },
    {
      "cell_type": "markdown",
      "metadata": {
        "id": "3bnqtP-mu9k5"
      },
      "source": [
        "This notebook is for the downstreaming task of classifying the protein sequences by fine-tuning PT5-XL-UniRef50 (https://arxiv.org/abs/2007.06225). We have used Q-LoRA for parameter optimization with a customised classifier head added to the LLM."
      ]
    },
    {
      "cell_type": "markdown",
      "metadata": {
        "id": "POJ4P0klCpWa"
      },
      "source": [
        "Installing all the required libraries"
      ]
    },
    {
      "cell_type": "code",
      "execution_count": null,
      "metadata": {
        "colab": {
          "base_uri": "https://localhost:8080/"
        },
        "id": "y6InMbWU7IT2",
        "outputId": "60f2650c-653c-4f77-e2a6-325a5740d6e7"
      },
      "outputs": [
        {
          "name": "stdout",
          "output_type": "stream",
          "text": [
            "\u001b[2K     \u001b[90m━━━━━━━━━━━━━━━━━━━━━━━━━━━━━━━━━━━━━━━━\u001b[0m \u001b[32m119.8/119.8 MB\u001b[0m \u001b[31m14.3 MB/s\u001b[0m eta \u001b[36m0:00:00\u001b[0m\n",
            "\u001b[?25h  Installing build dependencies ... \u001b[?25l\u001b[?25hdone\n",
            "  Getting requirements to build wheel ... \u001b[?25l\u001b[?25hdone\n",
            "  Preparing metadata (pyproject.toml) ... \u001b[?25l\u001b[?25hdone\n",
            "\u001b[2K     \u001b[90m━━━━━━━━━━━━━━━━━━━━━━━━━━━━━━━━━━━━━━━━\u001b[0m \u001b[32m297.6/297.6 kB\u001b[0m \u001b[31m7.5 MB/s\u001b[0m eta \u001b[36m0:00:00\u001b[0m\n",
            "\u001b[?25h  Building wheel for peft (pyproject.toml) ... \u001b[?25l\u001b[?25hdone\n",
            "  Installing build dependencies ... \u001b[?25l\u001b[?25hdone\n",
            "  Getting requirements to build wheel ... \u001b[?25l\u001b[?25hdone\n",
            "  Preparing metadata (pyproject.toml) ... \u001b[?25l\u001b[?25hdone\n",
            "  Building wheel for accelerate (pyproject.toml) ... \u001b[?25l\u001b[?25hdone\n",
            "\u001b[2K     \u001b[90m━━━━━━━━━━━━━━━━━━━━━━━━━━━━━━━━━━━━━━━━\u001b[0m \u001b[32m542.0/542.0 kB\u001b[0m \u001b[31m13.7 MB/s\u001b[0m eta \u001b[36m0:00:00\u001b[0m\n",
            "\u001b[2K     \u001b[90m━━━━━━━━━━━━━━━━━━━━━━━━━━━━━━━━━━━━━━━━\u001b[0m \u001b[32m116.3/116.3 kB\u001b[0m \u001b[31m16.0 MB/s\u001b[0m eta \u001b[36m0:00:00\u001b[0m\n",
            "\u001b[2K     \u001b[90m━━━━━━━━━━━━━━━━━━━━━━━━━━━━━━━━━━━━━━━━\u001b[0m \u001b[32m194.1/194.1 kB\u001b[0m \u001b[31m24.9 MB/s\u001b[0m eta \u001b[36m0:00:00\u001b[0m\n",
            "\u001b[2K     \u001b[90m━━━━━━━━━━━━━━━━━━━━━━━━━━━━━━━━━━━━━━━━\u001b[0m \u001b[32m134.8/134.8 kB\u001b[0m \u001b[31m19.1 MB/s\u001b[0m eta \u001b[36m0:00:00\u001b[0m\n",
            "\u001b[2K     \u001b[90m━━━━━━━━━━━━━━━━━━━━━━━━━━━━━━━━━━━━━━━━\u001b[0m \u001b[32m388.9/388.9 kB\u001b[0m \u001b[31m41.0 MB/s\u001b[0m eta \u001b[36m0:00:00\u001b[0m\n",
            "\u001b[2K     \u001b[90m━━━━━━━━━━━━━━━━━━━━━━━━━━━━━━━━━━━━━━━━\u001b[0m \u001b[32m84.1/84.1 kB\u001b[0m \u001b[31m2.7 MB/s\u001b[0m eta \u001b[36m0:00:00\u001b[0m\n",
            "\u001b[?25h"
          ]
        }
      ],
      "source": [
        "!pip install -q -U bitsandbytes #for quantization of LoRa weights\n",
        "!pip install -q transformers #==4.30\n",
        "!pip install -q -U git+https://github.com/huggingface/peft.git #For LoRa implementation\n",
        "!pip install -q -U git+https://github.com/huggingface/accelerate.git\n",
        "!pip install -q datasets\n",
        "!pip install -q evaluate\n",
        "!pip install -q accelerate\n",
        "!pip install -q SentencePiece\n",
        "\n",
        "#!pip install -q transformers"
      ]
    },
    {
      "cell_type": "markdown",
      "metadata": {
        "id": "9nf2_mUGDH2y"
      },
      "source": [
        "Import all the packages required"
      ]
    },
    {
      "cell_type": "code",
      "execution_count": null,
      "metadata": {
        "id": "xE1n8LtRZvRX"
      },
      "outputs": [],
      "source": [
        "import torch\n",
        "import torch.nn as nn\n",
        "import torch.nn.functional as F\n",
        "from torch.nn import BCEWithLogitsLoss, CrossEntropyLoss, MSELoss\n",
        "from torch.utils.data import DataLoader\n",
        "\n",
        "import re\n",
        "import numpy as np\n",
        "import pandas as pd\n",
        "import copy\n",
        "\n",
        "import transformers,datasets\n",
        "from transformers.modeling_outputs import SequenceClassifierOutput\n",
        "from transformers.models.t5.modeling_t5 import T5Config, T5PreTrainedModel, T5Stack\n",
        "from transformers.utils.model_parallel_utils import assert_device_map, get_device_map\n",
        "from transformers import T5EncoderModel, T5Tokenizer,AutoModelForSequenceClassification\n",
        "from transformers import TrainingArguments, Trainer, set_seed\n",
        "\n",
        "from evaluate import load\n",
        "from datasets import Dataset\n",
        "\n",
        "from tqdm import tqdm\n",
        "import random\n",
        "\n",
        "from scipy import stats\n",
        "from sklearn.metrics import accuracy_score\n",
        "\n",
        "import matplotlib.pyplot as plt"
      ]
    },
    {
      "cell_type": "code",
      "execution_count": null,
      "metadata": {
        "colab": {
          "base_uri": "https://localhost:8080/"
        },
        "id": "6YL6qSsEIQb1",
        "outputId": "8e505a61-d1db-4854-f6ce-6c226cd5f936"
      },
      "outputs": [
        {
          "name": "stdout",
          "output_type": "stream",
          "text": [
            "Mounted at /content/drive\n"
          ]
        }
      ],
      "source": [
        "from google.colab import drive\n",
        "drive.mount('/content/drive')"
      ]
    },
    {
      "cell_type": "code",
      "execution_count": null,
      "metadata": {
        "colab": {
          "base_uri": "https://localhost:8080/"
        },
        "id": "LM3sejFdZma5",
        "outputId": "cf2f4ee8-0658-41f1-dab9-3af660e385ea"
      },
      "outputs": [
        {
          "name": "stdout",
          "output_type": "stream",
          "text": [
            "Torch version:  2.2.1+cu121\n",
            "Cuda version:  12.1\n",
            "Numpy version:  1.25.2\n",
            "Pandas version:  2.0.3\n",
            "Transformers version:  4.40.0\n",
            "Datasets version:  2.19.0\n"
          ]
        }
      ],
      "source": [
        "print(\"Torch version: \",torch.__version__)\n",
        "print(\"Cuda version: \",torch.version.cuda)\n",
        "print(\"Numpy version: \",np.__version__)\n",
        "print(\"Pandas version: \",pd.__version__)\n",
        "print(\"Transformers version: \",transformers.__version__)\n",
        "print(\"Datasets version: \",datasets.__version__)"
      ]
    },
    {
      "cell_type": "code",
      "execution_count": null,
      "metadata": {
        "id": "J_AeK45aIa3W"
      },
      "outputs": [],
      "source": [
        "#BENCHMARKS_DIR = '/Desktop/DeepPPF/GPCR/FAMILY/SUBFAM'\n",
        "#BENCHMARKS_DIR='/content/drive/MyDrive/DeepPPF/GPCR/FAMILY/SUBFAM/'\n",
        "BENCHMARKS_DIR= '/content/drive/MyDrive/DeepPPF' #give path to your data\n",
        "\n",
        "#BENCHMARKS_DIR = '/home/chinju/DeepPPF/GPCR/FAMILY/SUBFAM/'\n",
        "BENCHMARK_NAME = 'subfam'"
      ]
    },
    {
      "cell_type": "markdown",
      "metadata": {
        "id": "grifeAGfDzkT"
      },
      "source": [
        "Set the environment variable if required"
      ]
    },
    {
      "cell_type": "code",
      "execution_count": null,
      "metadata": {
        "id": "Q8B7zo3oLsXm"
      },
      "outputs": [],
      "source": [
        "import os\n",
        "os.environ[\"MASTER_ADDR\"] = \"localhost\"\n",
        "os.environ[\"MASTER_PORT\"] = \"9994\"  # modify if RuntimeError: Address already in use\n",
        "os.environ[\"RANK\"] = \"0\"\n",
        "os.environ[\"LOCAL_RANK\"] = \"0\"\n",
        "os.environ[\"WORLD_SIZE\"] = \"1\""
      ]
    },
    {
      "cell_type": "markdown",
      "metadata": {
        "id": "5YoHQDs1D5y5"
      },
      "source": [
        "**Loading data and data preparation**"
      ]
    },
    {
      "cell_type": "code",
      "execution_count": null,
      "metadata": {
        "id": "68SxyRJgPCaY"
      },
      "outputs": [],
      "source": [
        "# train_set_file_path = os.path.join(BENCHMARKS_DIR, '%s.train.csv' % BENCHMARK_NAME)\n",
        "train_set_file_path = os.path.join(BENCHMARKS_DIR,'%s.train.csv' % BENCHMARK_NAME)\n",
        "#train_set = pd.read_csv(train_set_file_path).dropna().drop_duplicates()\n",
        "#my_train=pd.read_csv('C:/Users/IIIT KOTTAYAM/Desktop/DeepPPF/GPCR/FAMILY/SUBFAM/subfam.train.csv')\n",
        "my_train=pd.read_csv(train_set_file_path)\n",
        "#train_set.shape"
      ]
    },
    {
      "cell_type": "code",
      "execution_count": null,
      "metadata": {
        "id": "L9qrF61RaZJ9"
      },
      "outputs": [],
      "source": [
        "test_set_file_path = os.path.join(BENCHMARKS_DIR,'%s.test.csv' % BENCHMARK_NAME)\n",
        "my_test=pd.read_csv(test_set_file_path)"
      ]
    },
    {
      "cell_type": "code",
      "execution_count": null,
      "metadata": {
        "id": "bGHB4_pIn8z5"
      },
      "outputs": [],
      "source": [
        "#del my_train\n",
        "#del my_valid\n",
        "#del my_test"
      ]
    },
    {
      "cell_type": "code",
      "execution_count": null,
      "metadata": {
        "id": "q0u4M9ELaitL"
      },
      "outputs": [],
      "source": [
        "from sklearn.model_selection import train_test_split"
      ]
    },
    {
      "cell_type": "code",
      "execution_count": null,
      "metadata": {
        "id": "xTksXMxpEEI3"
      },
      "outputs": [],
      "source": [
        "lab = []\n",
        "for i in my_train['flabel']:\n",
        "  try:\n",
        "    lab.append(int(i))\n",
        "  except:\n",
        "    lab.append(0)"
      ]
    },
    {
      "cell_type": "code",
      "execution_count": null,
      "metadata": {
        "colab": {
          "base_uri": "https://localhost:8080/"
        },
        "id": "nLy4PMJQaqOM",
        "outputId": "5c2747ac-7504-4b9a-fdd4-491faf397a0a"
      },
      "outputs": [
        {
          "name": "stdout",
          "output_type": "stream",
          "text": [
            "6395 training set records, 711 validation set records, 832 test set records.\n"
          ]
        }
      ],
      "source": [
        "my_train['label']=lab\n",
        "my_train, my_valid = train_test_split(my_train, stratify = my_train['label'], test_size = 0.1, random_state = 0)\n",
        "\n",
        "#test_set_file_path = os.path.join(BENCHMARKS_DIR, '%s.test.csv' % BENCHMARK_NAME)\n",
        "#test_set = pd.read_csv(test_set_file_path).dropna().drop_duplicates()\n",
        "\n",
        "print(f'{len(my_train)} training set records, {len(my_valid)} validation set records, {len(my_test)} test set records.')"
      ]
    },
    {
      "cell_type": "code",
      "execution_count": null,
      "metadata": {
        "id": "nDZY1W3pa1FJ"
      },
      "outputs": [],
      "source": [
        "my_train.rename(columns = {'seq':'sequence'}, inplace = True)\n",
        "my_valid.rename(columns = {'seq':'sequence'}, inplace = True)\n",
        "#my_train.rename(columns = {'flabel':'label'}, inplace = True)\n",
        "my_test.rename(columns = {'seq':'sequence'}, inplace = True)\n",
        "my_test.rename(columns = {'flabel':'label'}, inplace = True)"
      ]
    },
    {
      "cell_type": "code",
      "execution_count": null,
      "metadata": {
        "id": "X5YVDnDH2DQC"
      },
      "outputs": [],
      "source": [
        "#my_train['label'] = my_train['label'].astype(int)\n",
        "#my_valid['label'] = my_valid['label'].astype(int)\n",
        "#my_test['label'] = my_test['label'].astype(int)"
      ]
    },
    {
      "cell_type": "code",
      "execution_count": null,
      "metadata": {
        "colab": {
          "base_uri": "https://localhost:8080/",
          "height": 206
        },
        "id": "Ls0cTA-rJ42y",
        "outputId": "24662f47-6755-46e8-ebd8-de7e70e308d4"
      },
      "outputs": [
        {
          "data": {
            "application/vnd.google.colaboratory.intrinsic+json": {
              "summary": "{\n  \"name\": \"my_valid\",\n  \"rows\": 711,\n  \"fields\": [\n    {\n      \"column\": \"Subsubfamilylabel\",\n      \"properties\": {\n        \"dtype\": \"number\",\n        \"std\": 23,\n        \"min\": 0,\n        \"max\": 85,\n        \"num_unique_values\": 78,\n        \"samples\": [\n          47,\n          14,\n          48\n        ],\n        \"semantic_type\": \"\",\n        \"description\": \"\"\n      }\n    },\n    {\n      \"column\": \"label1\",\n      \"properties\": {\n        \"dtype\": \"category\",\n        \"num_unique_values\": 5,\n        \"samples\": [\n          \"C\",\n          \"E\",\n          \"B\"\n        ],\n        \"semantic_type\": \"\",\n        \"description\": \"\"\n      }\n    },\n    {\n      \"column\": \"flabel\",\n      \"properties\": {\n        \"dtype\": \"number\",\n        \"std\": 0,\n        \"min\": 0,\n        \"max\": 4,\n        \"num_unique_values\": 5,\n        \"samples\": [\n          2,\n          4,\n          1\n        ],\n        \"semantic_type\": \"\",\n        \"description\": \"\"\n      }\n    },\n    {\n      \"column\": \"Sfamily\",\n      \"properties\": {\n        \"dtype\": \"category\",\n        \"num_unique_values\": 34,\n        \"samples\": [\n          \"ClassB_Cadherin\",\n          \"ClassB_Vasocactive\",\n          \"ClassD_Pheromone\"\n        ],\n        \"semantic_type\": \"\",\n        \"description\": \"\"\n      }\n    },\n    {\n      \"column\": \"slabel\",\n      \"properties\": {\n        \"dtype\": \"number\",\n        \"std\": 12,\n        \"min\": 0,\n        \"max\": 37,\n        \"num_unique_values\": 34,\n        \"samples\": [\n          30,\n          2,\n          36\n        ],\n        \"semantic_type\": \"\",\n        \"description\": \"\"\n      }\n    },\n    {\n      \"column\": \"sslabel\",\n      \"properties\": {\n        \"dtype\": \"number\",\n        \"std\": 23,\n        \"min\": 0,\n        \"max\": 85,\n        \"num_unique_values\": 78,\n        \"samples\": [\n          47,\n          14,\n          48\n        ],\n        \"semantic_type\": \"\",\n        \"description\": \"\"\n      }\n    },\n    {\n      \"column\": \"seq\",\n      \"properties\": {\n        \"dtype\": \"string\",\n        \"num_unique_values\": 659,\n        \"samples\": [\n          \"MAEGQVLVLDGQGHLLGHLAAIVAKQWMNTNPSRGPYHFRAPSRIFWRTVRGMLLHKTKRGQAALERLKVLDGIPPPYEKKKRMVVPAALKVVRLKPTRNFTELSCFWRMKNSEDSDGDLRSDCGFVLLTTKKNIEDFYNDINEVRIPARRYEFFLVMFFATDEINNNPYLLPNISLIFSIIAGLCEDTLGVLDEIYSQQNNSWNIVNYICEKGQRCDIELTGPSWKASVKLSIHSMIPSVFFGPFNPNLSDHDQFPYMYQIATKDTCLSHGMVSLILHFRWNWLGLVISDDDQGIQFLSDLREEMQSHGICLAFVNMIPETMQVYMIKAKIYDKQIMTSSAKVVIIYGEMNSTLEVSFRRWSYLGVQRIWITTSQWDVITIKKDFNLDFFHGTLTFAHHKVEVAKFRNFMQTRNPAKYPVKFFESVLGWNYFNCSISKNSNLMDHFIFNNTLEWIALNKYDMVLSEEGYNLYNAVYAVAHTYHELILQQTESQNIAEPNGVFIDCQQVASLLKTRVFTNPVGELVNMKHREKQCVEYDIFITWNFPEGLGLKVKIGSYFPCFPQSQQLHISEDLEWATGGTSVPSSMCSATCTAGFRKIHQKQTADCCFDCVQCPENEVSNETADMEQCVRCPDDMYANLEQTQCLQRTVSFLAYDDPLGIALGCMALSFSAITILVLVTFVKYKDTPIVKANNRILSYILLISLVFCFLCSLLFIGHPNQATCILQQTTFGVFFTVAISTVLAKTITVVMAFKLTTPGRRLRGMMITWASNFVIPFCTLIQLVLCGIWLVTSPPFIDRDIQSEHGKTIIICNKGSVIAFHVVLGYLGSLALGSFTIAFLARNLPDRFNEAKFLTFSMLVFYSVWITFLPVYHSTRGKVMVVVEVFSILASSADLLGCIFVQKCYIILVSSNSNFLHKXKDKLLY\",\n          \"MDSSTGPGNTSDCSDPLAQASCSPAPGSWLNLSHVDGNQSDPCGLNRTGLGGNDSLCPQTGSPSMVTAITIMALYSIVCVVGLFGNFLVMYVIVRYTKMKTATNIYIFNLALADALATSTLPFQSVNYLMGTWPFGTILCKIVISIDYYNMFTSIFTLCTMSVDRYIAVCHPVKALDFRTPRNAKIVNVCNWILSSAIGLPVMFMATTKYRQGSIDCTLTFSHPTWYWENLLKICVFIFAFIMPILIITVCYGLMILRLKSVRMLSGSKEKDRNLRRITRMVLVVVAVFIVCWTPIHIYVIIKALITIPETTFQTVSWHFCIALGYTNSCLNPVLYAFLDENFKRCFREFCIPTSSTIEQQNSTRVRQNTREHPSTANTVDRTNHQLENLEAETAPLP\",\n          \"MSGTKLEDSPPCRNWSSAPELNETQEPFLNPTDYDDEEFLRYLWREYLHPKEYEWVLIAGYIIVFVVALIGNVLVCVAVWKNHHMRTVTNYFIVNLSLADVLVTITCLPATLVVDITETWFFGQSLCKVIPYLQTVSVSVSVLTLSCIALDRWYAICHPLMFKSTAKRARNSIVIIWIVSCIIMIPQAIVMECSTMLPGLANKTTLFTVCDERWGGEIYPKMYHICFFLVTYMAPLCLMVLAYLQIFRKLWCRQIPGTSSVVQRKWKPLQPVSQPRGPGQQTKSRISAVAAEIKQIRARRKTARMLMVVLLVFAICYLPISILNVLKRVFGMFTHTEDRETVYAWFTFSHWLVYANSAANPIIYNFLSGKFREEFKAAFSCCCLGVHHRQEDRLARGRTSTESRKSLTTQISNFDNISKLSEQVLLTSMSTLPAANGAGQLQNW\"\n        ],\n        \"semantic_type\": \"\",\n        \"description\": \"\"\n      }\n    },\n    {\n      \"column\": \"label\",\n      \"properties\": {\n        \"dtype\": \"number\",\n        \"std\": 0,\n        \"min\": 0,\n        \"max\": 4,\n        \"num_unique_values\": 5,\n        \"samples\": [\n          2,\n          4,\n          1\n        ],\n        \"semantic_type\": \"\",\n        \"description\": \"\"\n      }\n    }\n  ]\n}",
              "type": "dataframe",
              "variable_name": "my_valid"
            },
            "text/html": [
              "\n",
              "  <div id=\"df-95c58893-137a-4c47-9116-533f8a8a7cce\" class=\"colab-df-container\">\n",
              "    <div>\n",
              "<style scoped>\n",
              "    .dataframe tbody tr th:only-of-type {\n",
              "        vertical-align: middle;\n",
              "    }\n",
              "\n",
              "    .dataframe tbody tr th {\n",
              "        vertical-align: top;\n",
              "    }\n",
              "\n",
              "    .dataframe thead th {\n",
              "        text-align: right;\n",
              "    }\n",
              "</style>\n",
              "<table border=\"1\" class=\"dataframe\">\n",
              "  <thead>\n",
              "    <tr style=\"text-align: right;\">\n",
              "      <th></th>\n",
              "      <th>Subsubfamilylabel</th>\n",
              "      <th>label1</th>\n",
              "      <th>flabel</th>\n",
              "      <th>Sfamily</th>\n",
              "      <th>slabel</th>\n",
              "      <th>sslabel</th>\n",
              "      <th>seq</th>\n",
              "      <th>label</th>\n",
              "    </tr>\n",
              "  </thead>\n",
              "  <tbody>\n",
              "    <tr>\n",
              "      <th>1283</th>\n",
              "      <td>14</td>\n",
              "      <td>A</td>\n",
              "      <td>0</td>\n",
              "      <td>ClassA_Peptide</td>\n",
              "      <td>12</td>\n",
              "      <td>14</td>\n",
              "      <td>MASFSAETNSTDLLSQPWNEPPVILSMVILSLTFLLGLPGNGLVLW...</td>\n",
              "      <td>0</td>\n",
              "    </tr>\n",
              "    <tr>\n",
              "      <th>2588</th>\n",
              "      <td>69</td>\n",
              "      <td>C</td>\n",
              "      <td>2</td>\n",
              "      <td>ClassC_PutPher</td>\n",
              "      <td>34</td>\n",
              "      <td>69</td>\n",
              "      <td>VYLSPHFLQLSYGPFYSIFSDNEQYPYLYQMGPKDSSLALAMVSFI...</td>\n",
              "      <td>2</td>\n",
              "    </tr>\n",
              "    <tr>\n",
              "      <th>180</th>\n",
              "      <td>44</td>\n",
              "      <td>A</td>\n",
              "      <td>0</td>\n",
              "      <td>ClassA_Peptide</td>\n",
              "      <td>12</td>\n",
              "      <td>44</td>\n",
              "      <td>MPALGSQRRLLGSLNCTPPATLPFTLAPNRTGPQCLEVSIPDGLFL...</td>\n",
              "      <td>0</td>\n",
              "    </tr>\n",
              "    <tr>\n",
              "      <th>2884</th>\n",
              "      <td>83</td>\n",
              "      <td>A</td>\n",
              "      <td>0</td>\n",
              "      <td>ClassA_Peptide</td>\n",
              "      <td>12</td>\n",
              "      <td>83</td>\n",
              "      <td>MACSGVDCPVEASDYSPSTPVEGATTEPWLPTPGNNSGNITDTSDD...</td>\n",
              "      <td>0</td>\n",
              "    </tr>\n",
              "    <tr>\n",
              "      <th>760</th>\n",
              "      <td>38</td>\n",
              "      <td>A</td>\n",
              "      <td>0</td>\n",
              "      <td>ClassA_Interleukin8</td>\n",
              "      <td>6</td>\n",
              "      <td>38</td>\n",
              "      <td>MEYINWDNYSLEDLFGDIDNYTYNTEMPIIPADSAPCRPESLDINK...</td>\n",
              "      <td>0</td>\n",
              "    </tr>\n",
              "  </tbody>\n",
              "</table>\n",
              "</div>\n",
              "    <div class=\"colab-df-buttons\">\n",
              "\n",
              "  <div class=\"colab-df-container\">\n",
              "    <button class=\"colab-df-convert\" onclick=\"convertToInteractive('df-95c58893-137a-4c47-9116-533f8a8a7cce')\"\n",
              "            title=\"Convert this dataframe to an interactive table.\"\n",
              "            style=\"display:none;\">\n",
              "\n",
              "  <svg xmlns=\"http://www.w3.org/2000/svg\" height=\"24px\" viewBox=\"0 -960 960 960\">\n",
              "    <path d=\"M120-120v-720h720v720H120Zm60-500h600v-160H180v160Zm220 220h160v-160H400v160Zm0 220h160v-160H400v160ZM180-400h160v-160H180v160Zm440 0h160v-160H620v160ZM180-180h160v-160H180v160Zm440 0h160v-160H620v160Z\"/>\n",
              "  </svg>\n",
              "    </button>\n",
              "\n",
              "  <style>\n",
              "    .colab-df-container {\n",
              "      display:flex;\n",
              "      gap: 12px;\n",
              "    }\n",
              "\n",
              "    .colab-df-convert {\n",
              "      background-color: #E8F0FE;\n",
              "      border: none;\n",
              "      border-radius: 50%;\n",
              "      cursor: pointer;\n",
              "      display: none;\n",
              "      fill: #1967D2;\n",
              "      height: 32px;\n",
              "      padding: 0 0 0 0;\n",
              "      width: 32px;\n",
              "    }\n",
              "\n",
              "    .colab-df-convert:hover {\n",
              "      background-color: #E2EBFA;\n",
              "      box-shadow: 0px 1px 2px rgba(60, 64, 67, 0.3), 0px 1px 3px 1px rgba(60, 64, 67, 0.15);\n",
              "      fill: #174EA6;\n",
              "    }\n",
              "\n",
              "    .colab-df-buttons div {\n",
              "      margin-bottom: 4px;\n",
              "    }\n",
              "\n",
              "    [theme=dark] .colab-df-convert {\n",
              "      background-color: #3B4455;\n",
              "      fill: #D2E3FC;\n",
              "    }\n",
              "\n",
              "    [theme=dark] .colab-df-convert:hover {\n",
              "      background-color: #434B5C;\n",
              "      box-shadow: 0px 1px 3px 1px rgba(0, 0, 0, 0.15);\n",
              "      filter: drop-shadow(0px 1px 2px rgba(0, 0, 0, 0.3));\n",
              "      fill: #FFFFFF;\n",
              "    }\n",
              "  </style>\n",
              "\n",
              "    <script>\n",
              "      const buttonEl =\n",
              "        document.querySelector('#df-95c58893-137a-4c47-9116-533f8a8a7cce button.colab-df-convert');\n",
              "      buttonEl.style.display =\n",
              "        google.colab.kernel.accessAllowed ? 'block' : 'none';\n",
              "\n",
              "      async function convertToInteractive(key) {\n",
              "        const element = document.querySelector('#df-95c58893-137a-4c47-9116-533f8a8a7cce');\n",
              "        const dataTable =\n",
              "          await google.colab.kernel.invokeFunction('convertToInteractive',\n",
              "                                                    [key], {});\n",
              "        if (!dataTable) return;\n",
              "\n",
              "        const docLinkHtml = 'Like what you see? Visit the ' +\n",
              "          '<a target=\"_blank\" href=https://colab.research.google.com/notebooks/data_table.ipynb>data table notebook</a>'\n",
              "          + ' to learn more about interactive tables.';\n",
              "        element.innerHTML = '';\n",
              "        dataTable['output_type'] = 'display_data';\n",
              "        await google.colab.output.renderOutput(dataTable, element);\n",
              "        const docLink = document.createElement('div');\n",
              "        docLink.innerHTML = docLinkHtml;\n",
              "        element.appendChild(docLink);\n",
              "      }\n",
              "    </script>\n",
              "  </div>\n",
              "\n",
              "\n",
              "<div id=\"df-9563ffec-4d09-429a-aec8-36c8d95db208\">\n",
              "  <button class=\"colab-df-quickchart\" onclick=\"quickchart('df-9563ffec-4d09-429a-aec8-36c8d95db208')\"\n",
              "            title=\"Suggest charts\"\n",
              "            style=\"display:none;\">\n",
              "\n",
              "<svg xmlns=\"http://www.w3.org/2000/svg\" height=\"24px\"viewBox=\"0 0 24 24\"\n",
              "     width=\"24px\">\n",
              "    <g>\n",
              "        <path d=\"M19 3H5c-1.1 0-2 .9-2 2v14c0 1.1.9 2 2 2h14c1.1 0 2-.9 2-2V5c0-1.1-.9-2-2-2zM9 17H7v-7h2v7zm4 0h-2V7h2v10zm4 0h-2v-4h2v4z\"/>\n",
              "    </g>\n",
              "</svg>\n",
              "  </button>\n",
              "\n",
              "<style>\n",
              "  .colab-df-quickchart {\n",
              "      --bg-color: #E8F0FE;\n",
              "      --fill-color: #1967D2;\n",
              "      --hover-bg-color: #E2EBFA;\n",
              "      --hover-fill-color: #174EA6;\n",
              "      --disabled-fill-color: #AAA;\n",
              "      --disabled-bg-color: #DDD;\n",
              "  }\n",
              "\n",
              "  [theme=dark] .colab-df-quickchart {\n",
              "      --bg-color: #3B4455;\n",
              "      --fill-color: #D2E3FC;\n",
              "      --hover-bg-color: #434B5C;\n",
              "      --hover-fill-color: #FFFFFF;\n",
              "      --disabled-bg-color: #3B4455;\n",
              "      --disabled-fill-color: #666;\n",
              "  }\n",
              "\n",
              "  .colab-df-quickchart {\n",
              "    background-color: var(--bg-color);\n",
              "    border: none;\n",
              "    border-radius: 50%;\n",
              "    cursor: pointer;\n",
              "    display: none;\n",
              "    fill: var(--fill-color);\n",
              "    height: 32px;\n",
              "    padding: 0;\n",
              "    width: 32px;\n",
              "  }\n",
              "\n",
              "  .colab-df-quickchart:hover {\n",
              "    background-color: var(--hover-bg-color);\n",
              "    box-shadow: 0 1px 2px rgba(60, 64, 67, 0.3), 0 1px 3px 1px rgba(60, 64, 67, 0.15);\n",
              "    fill: var(--button-hover-fill-color);\n",
              "  }\n",
              "\n",
              "  .colab-df-quickchart-complete:disabled,\n",
              "  .colab-df-quickchart-complete:disabled:hover {\n",
              "    background-color: var(--disabled-bg-color);\n",
              "    fill: var(--disabled-fill-color);\n",
              "    box-shadow: none;\n",
              "  }\n",
              "\n",
              "  .colab-df-spinner {\n",
              "    border: 2px solid var(--fill-color);\n",
              "    border-color: transparent;\n",
              "    border-bottom-color: var(--fill-color);\n",
              "    animation:\n",
              "      spin 1s steps(1) infinite;\n",
              "  }\n",
              "\n",
              "  @keyframes spin {\n",
              "    0% {\n",
              "      border-color: transparent;\n",
              "      border-bottom-color: var(--fill-color);\n",
              "      border-left-color: var(--fill-color);\n",
              "    }\n",
              "    20% {\n",
              "      border-color: transparent;\n",
              "      border-left-color: var(--fill-color);\n",
              "      border-top-color: var(--fill-color);\n",
              "    }\n",
              "    30% {\n",
              "      border-color: transparent;\n",
              "      border-left-color: var(--fill-color);\n",
              "      border-top-color: var(--fill-color);\n",
              "      border-right-color: var(--fill-color);\n",
              "    }\n",
              "    40% {\n",
              "      border-color: transparent;\n",
              "      border-right-color: var(--fill-color);\n",
              "      border-top-color: var(--fill-color);\n",
              "    }\n",
              "    60% {\n",
              "      border-color: transparent;\n",
              "      border-right-color: var(--fill-color);\n",
              "    }\n",
              "    80% {\n",
              "      border-color: transparent;\n",
              "      border-right-color: var(--fill-color);\n",
              "      border-bottom-color: var(--fill-color);\n",
              "    }\n",
              "    90% {\n",
              "      border-color: transparent;\n",
              "      border-bottom-color: var(--fill-color);\n",
              "    }\n",
              "  }\n",
              "</style>\n",
              "\n",
              "  <script>\n",
              "    async function quickchart(key) {\n",
              "      const quickchartButtonEl =\n",
              "        document.querySelector('#' + key + ' button');\n",
              "      quickchartButtonEl.disabled = true;  // To prevent multiple clicks.\n",
              "      quickchartButtonEl.classList.add('colab-df-spinner');\n",
              "      try {\n",
              "        const charts = await google.colab.kernel.invokeFunction(\n",
              "            'suggestCharts', [key], {});\n",
              "      } catch (error) {\n",
              "        console.error('Error during call to suggestCharts:', error);\n",
              "      }\n",
              "      quickchartButtonEl.classList.remove('colab-df-spinner');\n",
              "      quickchartButtonEl.classList.add('colab-df-quickchart-complete');\n",
              "    }\n",
              "    (() => {\n",
              "      let quickchartButtonEl =\n",
              "        document.querySelector('#df-9563ffec-4d09-429a-aec8-36c8d95db208 button');\n",
              "      quickchartButtonEl.style.display =\n",
              "        google.colab.kernel.accessAllowed ? 'block' : 'none';\n",
              "    })();\n",
              "  </script>\n",
              "</div>\n",
              "\n",
              "    </div>\n",
              "  </div>\n"
            ],
            "text/plain": [
              "      Subsubfamilylabel label1  flabel              Sfamily  slabel  sslabel  \\\n",
              "1283                 14      A       0       ClassA_Peptide      12       14   \n",
              "2588                 69      C       2       ClassC_PutPher      34       69   \n",
              "180                  44      A       0       ClassA_Peptide      12       44   \n",
              "2884                 83      A       0       ClassA_Peptide      12       83   \n",
              "760                  38      A       0  ClassA_Interleukin8       6       38   \n",
              "\n",
              "                                                    seq  label  \n",
              "1283  MASFSAETNSTDLLSQPWNEPPVILSMVILSLTFLLGLPGNGLVLW...      0  \n",
              "2588  VYLSPHFLQLSYGPFYSIFSDNEQYPYLYQMGPKDSSLALAMVSFI...      2  \n",
              "180   MPALGSQRRLLGSLNCTPPATLPFTLAPNRTGPQCLEVSIPDGLFL...      0  \n",
              "2884  MACSGVDCPVEASDYSPSTPVEGATTEPWLPTPGNNSGNITDTSDD...      0  \n",
              "760   MEYINWDNYSLEDLFGDIDNYTYNTEMPIIPADSAPCRPESLDINK...      0  "
            ]
          },
          "execution_count": 12,
          "metadata": {},
          "output_type": "execute_result"
        }
      ],
      "source": [
        "my_valid.head()"
      ]
    },
    {
      "cell_type": "markdown",
      "metadata": {
        "id": "4duD_TdaEKwU"
      },
      "source": [
        "For printing the number of trainable parameters after QLoRA matrices are incorporated in the LLM"
      ]
    },
    {
      "cell_type": "code",
      "execution_count": null,
      "metadata": {
        "id": "sOFMAELtbF17"
      },
      "outputs": [],
      "source": [
        "def print_trainable_parameters(model):\n",
        "    \"\"\"\n",
        "    Prints the number of trainable parameters in the model.\n",
        "    \"\"\"\n",
        "    trainable_params = 0\n",
        "    all_param = 0\n",
        "    for _, param in model.named_parameters():\n",
        "        all_param += param.numel()\n",
        "        if param.requires_grad:\n",
        "            trainable_params += param.numel()\n",
        "    print(\n",
        "        f\"trainable params: {trainable_params} || all params: {all_param} || trainable%: {100 * trainable_params / all_param}\"\n",
        "    )"
      ]
    },
    {
      "cell_type": "markdown",
      "metadata": {
        "id": "IwB0Bo_hEeOf"
      },
      "source": [
        "Adding customised classifier head to the model"
      ]
    },
    {
      "cell_type": "code",
      "execution_count": null,
      "metadata": {
        "id": "uTpYlZc59-ft"
      },
      "outputs": [],
      "source": [
        "\n",
        "class ClassConfig:\n",
        "    def __init__(self, dropout=0.2, num_labels=5):\n",
        "        self.dropout_rate = dropout\n",
        "        self.num_labels = num_labels\n",
        "\n",
        "class T5EncoderClassificationHead(nn.Module):\n",
        "    \"\"\"Head for sentence-level classification tasks.\"\"\"\n",
        "\n",
        "    def __init__(self, config, class_config):\n",
        "        super().__init__()\n",
        "        self.dense = nn.Linear(config.hidden_size, config.hidden_size)\n",
        "        self.dropout = nn.Dropout(class_config.dropout_rate)\n",
        "        self.out_proj = nn.Linear(config.hidden_size, class_config.num_labels)\n",
        "\n",
        "    def forward(self, hidden_states):\n",
        "\n",
        "        hidden_states =  torch.mean(hidden_states,dim=1)  # avg embedding\n",
        "\n",
        "        hidden_states = self.dropout(hidden_states)\n",
        "        hidden_states = self.dense(hidden_states)\n",
        "        hidden_states = torch.tanh(hidden_states)\n",
        "        hidden_states = self.dropout(hidden_states)\n",
        "        hidden_states = self.out_proj(hidden_states)\n",
        "\n",
        "        return hidden_states\n",
        "\n",
        "class T5EncoderForSimpleSequenceClassification(T5PreTrainedModel):\n",
        "\n",
        "    def __init__(self, config: T5Config, class_config):\n",
        "        super().__init__(config)\n",
        "        self.num_labels = class_config.num_labels\n",
        "        self.config = config\n",
        "\n",
        "        self.shared = nn.Embedding(config.vocab_size, config.d_model)\n",
        "\n",
        "        encoder_config = copy.deepcopy(config)\n",
        "        encoder_config.use_cache = False\n",
        "        encoder_config.is_encoder_decoder = False\n",
        "        self.encoder = T5Stack(encoder_config, self.shared)\n",
        "\n",
        "        self.dropout = nn.Dropout(class_config.dropout_rate)\n",
        "        self.classifier = T5EncoderClassificationHead(config, class_config)\n",
        "\n",
        "        # Initialize weights and apply final processing\n",
        "        self.post_init()\n",
        "\n",
        "        # Model parallel\n",
        "        self.model_parallel = False\n",
        "        self.device_map = None\n",
        "\n",
        "    def parallelize(self, device_map=None):\n",
        "        self.device_map = (\n",
        "            get_device_map(len(self.encoder.block), range(torch.cuda.device_count()))\n",
        "            if device_map is None\n",
        "            else device_map\n",
        "        )\n",
        "        assert_device_map(self.device_map, len(self.encoder.block))\n",
        "        self.encoder.parallelize(self.device_map)\n",
        "        self.classifier = self.classifier.to(self.encoder.first_device)\n",
        "        self.model_parallel = True\n",
        "\n",
        "    def deparallelize(self):\n",
        "        self.encoder.deparallelize()\n",
        "        self.encoder = self.encoder.to(\"cpu\")\n",
        "        #self.encoder = self.encoder.to(self.device_map)\n",
        "        self.model_parallel = False\n",
        "        self.device_map = None\n",
        "        torch.cuda.empty_cache()\n",
        "\n",
        "    def get_input_embeddings(self):\n",
        "        return self.shared\n",
        "\n",
        "    def set_input_embeddings(self, new_embeddings):\n",
        "        self.shared = new_embeddings\n",
        "        self.encoder.set_input_embeddings(new_embeddings)\n",
        "\n",
        "    def get_encoder(self):\n",
        "        return self.encoder\n",
        "\n",
        "    def _prune_heads(self, heads_to_prune):\n",
        "        \"\"\"\n",
        "        Prunes heads of the model. heads_to_prune: dict of {layer_num: list of heads to prune in this layer} See base\n",
        "        class PreTrainedModel\n",
        "        \"\"\"\n",
        "        for layer, heads in heads_to_prune.items():\n",
        "            self.encoder.layer[layer].attention.prune_heads(heads)\n",
        "\n",
        "    def forward(\n",
        "        self,\n",
        "        input_ids=None,\n",
        "        attention_mask=None,\n",
        "        head_mask=None,\n",
        "        inputs_embeds=None,\n",
        "        labels=None,\n",
        "        output_attentions=None,\n",
        "        output_hidden_states=None,\n",
        "        return_dict=None,\n",
        "    ):\n",
        "        return_dict = return_dict if return_dict is not None else self.config.use_return_dict\n",
        "\n",
        "        outputs = self.encoder(\n",
        "            input_ids=input_ids,\n",
        "            attention_mask=attention_mask,\n",
        "            head_mask=head_mask,\n",
        "            inputs_embeds=inputs_embeds,\n",
        "            #labels=labels,\n",
        "            output_attentions=output_attentions,\n",
        "            output_hidden_states=output_hidden_states,\n",
        "            return_dict=return_dict,\n",
        "        )\n",
        "\n",
        "        hidden_states = outputs[0]\n",
        "        logits = self.classifier(hidden_states)\n",
        "        #print(logits)\n",
        "\n",
        "        #hidden_states = outputs[0]\n",
        "        #logits = self.classifier(hidden_states)\n",
        "\n",
        "        loss = None\n",
        "\n",
        "        if labels is not None:\n",
        "\n",
        "            if self.config.problem_type is None:\n",
        "                if self.num_labels == 1:\n",
        "                    self.config.problem_type = \"regression\"\n",
        "                elif self.num_labels > 1 and (labels.dtype == torch.long or labels.dtype == torch.int):\n",
        "                    self.config.problem_type = \"single_label_classification\"\n",
        "                else:\n",
        "                    self.config.problem_type = \"multi_label_classification\"\n",
        "\n",
        "            if self.config.problem_type == \"regression\":\n",
        "                loss_fct = MSELoss()\n",
        "                if self.num_labels == 1:\n",
        "                    loss = loss_fct(logits.squeeze(), labels.squeeze())\n",
        "                else:\n",
        "                    loss = loss_fct(logits, labels)\n",
        "            elif self.config.problem_type == \"single_label_classification\":\n",
        "                #print(\"single_label\")\n",
        "                loss_fct = CrossEntropyLoss()\n",
        "                loss = loss_fct(logits.view(-1, self.num_labels), labels.view(-1))\n",
        "            elif self.config.problem_type == \"multi_label_classification\":\n",
        "                 #print(\"multi_label\")\n",
        "                 loss_fct = BCEWithLogitsLoss()\n",
        "                 loss = loss_fct(logits, labels)\n",
        "\n",
        "\n",
        "          #print(\"printing labels :\",labels)\n",
        "          #num_labels = self.num_labels\n",
        "          #logits = logits.view(-1, num_labels)\n",
        "          #labels = labels.view(1, num_labels)\n",
        "          #labels= torch.tensor([[0.0,1.0,2.0,3.0,4.0]]) #give the target labels of your classification task here\n",
        "          #device = torch.device(\"cuda\" if torch.cuda.is_available() else \"cpu\")\n",
        "          #labels=labels.to(device)\n",
        "          #print(\"printing labels defined:\",labels)\n",
        "          #print(\"printing logits\",logits)\n",
        "\n",
        "\n",
        "          #print('printing loss',loss)\n",
        "\n",
        "\n",
        "        loss.requires_grad = True\n",
        "        if not return_dict:\n",
        "\n",
        "            output = (logits,) + outputs[1:]\n",
        "            return ((loss,) + output) if loss is not None else output\n",
        "\n",
        "        return SequenceClassifierOutput(\n",
        "            loss=loss,\n",
        "            logits=logits,\n",
        "            hidden_states=outputs.hidden_states,\n",
        "            attentions=outputs.attentions,\n",
        "        )"
      ]
    },
    {
      "cell_type": "markdown",
      "metadata": {
        "id": "ULSOqoZwEs6c"
      },
      "source": [
        "LoRA Configuration"
      ]
    },
    {
      "cell_type": "code",
      "execution_count": null,
      "metadata": {
        "id": "tctorw5R-5Bo"
      },
      "outputs": [],
      "source": [
        "#num_labels=5\n",
        "from peft import LoraConfig, get_peft_model\n",
        "from peft import prepare_model_for_kbit_training\n",
        "def PT5_classification_model(num_labels):\n",
        "    # Load PT5 and tokenizer\n",
        "    # possible to load the half preciion model (thanks to @pawel-rezo for pointing that out)\n",
        "    '''\n",
        "    half_precision=False\n",
        "    if not half_precision:\n",
        "        model = T5EncoderModel.from_pretrained(\"Rostlab/prot_t5_xl_bfd\")\n",
        "        tokenizer = T5Tokenizer.from_pretrained(\"Rostlab/prot_t5_xl_bfd\")\n",
        "    elif half_precision and torch.cuda.is_available() :\n",
        "        tokenizer = T5Tokenizer.from_pretrained('Rostlab/prot_t5_xl_half_uniref50-enc', do_lower_case=False)\n",
        "        model = T5EncoderModel.from_pretrained(\"Rostlab/prot_t5_xl_half_uniref50-enc\", torch_dtype=torch.float16).to(torch.device('cuda'))\n",
        "    else:\n",
        "          raise ValueError('Half precision can be run on GPU only.')\n",
        "    '''\n",
        "    l_config = LoraConfig(\n",
        "    r=8,\n",
        "    lora_alpha=32,\n",
        "    #target_modules=[\"query_key_value\"],\n",
        "    target_modules = \"all-linear\",\n",
        "    #target_modules =  \".*SelfAttention|.*EncDecAttention\",\n",
        "    #lora_layers = \"q|k|v|o\",\n",
        "    bias=\"none\",\n",
        "    task_type=\"TaskType.SEQ_CLS\", #\"CAUSAL_LM\"\n",
        ")\n",
        "\n",
        "    model_id = \"Rostlab/prot_t5_xl_uniref50\"\n",
        "    tokenizer = T5Tokenizer.from_pretrained(model_id)\n",
        "    model = T5EncoderModel.from_pretrained(model_id, quantization_config=bnb_config, device_map={\"\":0},num_labels=num_labels)\n",
        "    #model = model.to(torch.device(\"cuda\"))\n",
        "\n",
        "    # Create new Classifier model with PT5 dimensions\n",
        "    class_config=ClassConfig(num_labels=num_labels)\n",
        "    class_model=T5EncoderForSimpleSequenceClassification(model.config,class_config)\n",
        "    model = get_peft_model(class_model,l_config)\n",
        "    print_trainable_parameters(model)\n",
        "\n",
        "    # Set encoder and embedding weights to checkpoint weights\n",
        "    class_model.shared=model.shared\n",
        "    class_model.encoder=model.encoder\n",
        "\n",
        "    # Delete the checkpoint model\n",
        "    model=class_model\n",
        "    del class_model\n",
        "\n",
        "    #Print number of trainable parameters\n",
        "    model_parameters = filter(lambda p: p.requires_grad, model.parameters())\n",
        "    params = sum([np.prod(p.size()) for p in model_parameters])\n",
        "    print(\"ProtT5_Classfier\\nTrainable Parameter: \"+ str(params))\n",
        "\n",
        "\n",
        "    '''\n",
        "    # Freeze Embeddings and Encoder (except LoRA)\n",
        "    for (param_name, param) in model.shared.named_parameters():\n",
        "                param.requires_grad = False\n",
        "    for (param_name, param) in model.encoder.named_parameters():\n",
        "                param.requires_grad = False\n",
        "\n",
        "    for (param_name, param) in model.named_parameters():\n",
        "            if re.fullmatch(model.config.trainable_param_names, param_name):\n",
        "             param.requires_grad = True\n",
        "\n",
        "    # Print trainable Parameter\n",
        "    model_parameters = filter(lambda p: p.requires_grad, model.parameters())\n",
        "    params = sum([np.prod(p.size()) for p in model_parameters])\n",
        "    print(\"ProtT5_LoRA_Classfier\\nTrainable Parameter: \"+ str(params) + \"\\n\")\n",
        "    '''\n",
        "\n",
        "\n",
        "    model.gradient_checkpointing_enable()\n",
        "    model = prepare_model_for_kbit_training(model)\n",
        "    #model.config\n",
        "    return model, tokenizer"
      ]
    },
    {
      "cell_type": "code",
      "execution_count": null,
      "metadata": {
        "id": "u6HXTTwBAGg4"
      },
      "outputs": [],
      "source": [
        "from datasets import Dataset\n",
        "# Set random seeds for reproducibility of your trainings run\n",
        "def set_seeds(s):\n",
        "    torch.manual_seed(s)\n",
        "    np.random.seed(s)\n",
        "    random.seed(s)\n",
        "    set_seed(s)\n",
        "\n",
        "# Dataset creation\n",
        "def create_dataset(tokenizer,seqs,labels):\n",
        "    tokenized = tokenizer(seqs, max_length=1024, padding=True, truncation=True)\n",
        "    dataset = Dataset.from_dict(tokenized)\n",
        "    #datas=Dataset.from_dict\n",
        "    dataset = dataset.add_column(\"labels\", labels)\n",
        "\n",
        "    return dataset\n",
        "\n",
        "# Main training fuction\n",
        "def train_per_protein(\n",
        "        train_df,         #training data\n",
        "        valid_df,         #validation data\n",
        "        num_labels= 5,    #1 for regression, >1 for classification\n",
        "\n",
        "        # effective training batch size is batch * accum\n",
        "        # we recommend an effective batch size of 8\n",
        "        batch= 8,         #for training\n",
        "        accum= 2,         #gradient accumulation\n",
        "\n",
        "        val_batch = 16,   #batch size for evaluation\n",
        "        epochs= 10,       #training epochs\n",
        "        lr= 3e-4,         #recommended learning rate\n",
        "        seed= 42,\n",
        "\n",
        "        #random seed\n",
        "        #deepspeed= True,  #if gpu is large enough disable deepspeed for training speedup\n",
        "        #mixed= False,     #enable mixed precision training\n",
        "        gpu= 1 ):         #gpu selection (1 for first gpu)\n",
        "\n",
        "    # Set gpu device\n",
        "    os.environ[\"CUDA_VISIBLE_DEVICES\"]=str(gpu-1)\n",
        "\n",
        "    # Set all random seeds\n",
        "    set_seeds(seed)\n",
        "\n",
        "    # load model\n",
        "    model, tokenizer = PT5_classification_model(num_labels=num_labels)\n",
        "\n",
        "    # Preprocess inputs\n",
        "    # Replace uncommon AAs with \"X\"\n",
        "    train_df[\"sequence\"]=train_df[\"sequence\"].str.replace('|'.join([\"O\",\"B\",\"U\",\"Z\"]),\"X\",regex=True)\n",
        "    valid_df[\"sequence\"]=valid_df[\"sequence\"].str.replace('|'.join([\"O\",\"B\",\"U\",\"Z\"]),\"X\",regex=True)\n",
        "    # Add spaces between each amino acid for PT5 to correctly use them\n",
        "    train_df['sequence']=train_df.apply(lambda row : \" \".join(row[\"sequence\"]), axis = 1)\n",
        "    valid_df['sequence']=valid_df.apply(lambda row : \" \".join(row[\"sequence\"]), axis = 1)\n",
        "\n",
        "\n",
        "    # Create Datasets\n",
        "\n",
        "    #train_set=create_dataset(tokenizer,list(train_df['sequence']),list(train_df['label']))\n",
        "    #valid_set=create_dataset(tokenizer,list(valid_df['sequence']),list(valid_df['label']))\n",
        "    train_set=create_dataset(tokenizer,list(train_df['sequence']),train_df['label'])\n",
        "    valid_set=create_dataset(tokenizer,list(valid_df['sequence']),valid_df['label'])\n",
        "    # Huggingface Trainer arguments\n",
        "    args = TrainingArguments(\n",
        "        \"./\",\n",
        "        evaluation_strategy = \"epoch\",\n",
        "        logging_strategy = \"epoch\",\n",
        "        save_strategy = \"no\",\n",
        "        learning_rate=lr,\n",
        "        per_device_train_batch_size=batch,\n",
        "        per_device_eval_batch_size=val_batch,\n",
        "        gradient_accumulation_steps=accum,\n",
        "        num_train_epochs=epochs,\n",
        "        seed = seed,\n",
        "        #deepspeed= ds_config if deepspeed else None,\n",
        "        fp16 = False, #fp16=mixed\n",
        "        remove_unused_columns=False,\n",
        "        #optimizers=\"AdamW\",\n",
        "        #optim=\"paged_adamw_8bit\",\n",
        "        optim=\"adamw_bnb_8bit\"#adamw_torch\",\n",
        "    )\n",
        "\n",
        "    # Metric definition for validation data\n",
        "    def compute_metrics(eval_pred):\n",
        "        if num_labels>1:  # for classification\n",
        "            metric = load(\"accuracy\")\n",
        "            predictions, labels = eval_pred\n",
        "            predictions = np.argmax(predictions, axis=1)\n",
        "        else:  # for regression\n",
        "            metric = load(\"spearmanr\")\n",
        "            predictions, labels = eval_pred\n",
        "\n",
        "        return metric.compute(predictions=predictions, references=labels)\n",
        "\n",
        "    # Trainer\n",
        "    trainer = transformers.Trainer(\n",
        "        model,\n",
        "        args,\n",
        "        train_dataset=train_set,\n",
        "        eval_dataset=valid_set,\n",
        "        tokenizer=tokenizer,\n",
        "        compute_metrics=compute_metrics,\n",
        "        #logging_steps=1,\n",
        "        #output_dir=\"outputs\",\n",
        "\n",
        "\n",
        "    )\n",
        "\n",
        "    # Train model\n",
        "    trainer.train()\n",
        "\n",
        "    return tokenizer, model, trainer.state.log_history\n"
      ]
    },
    {
      "cell_type": "code",
      "execution_count": null,
      "metadata": {
        "id": "VapeOeoKCqk4"
      },
      "outputs": [],
      "source": [
        "import torch\n",
        "from transformers import T5Tokenizer, T5EncoderModel, BitsAndBytesConfig,AutoModelForSequenceClassification,AutoTokenizer\n",
        "\n",
        "#model_id = \"Rostlab/prot_t5_xl_uniref50\"\n",
        "bnb_config = BitsAndBytesConfig(\n",
        "    load_in_4bit=True,\n",
        "    bnb_4bit_use_double_quant=True,\n",
        "    bnb_4bit_quant_type=\"nf4\",\n",
        "    bnb_4bit_compute_dtype=torch.bfloat16\n",
        ")"
      ]
    },
    {
      "cell_type": "code",
      "execution_count": null,
      "metadata": {
        "colab": {
          "background_save": true,
          "base_uri": "https://localhost:8080/",
          "height": 350,
          "referenced_widgets": [
            "6559e8738b064303a88255a96dd70bc9",
            "ba407e2034174f51b443261cc4afa472",
            "d03ecce9c5b54ce197f2c1ffc6d4f8ce",
            "e0b1a777e68e47f39fd9cf8a4df2de0c",
            "132964e45a3243ae8c9b1f94ed048f70",
            "fc2705bef1c84bafb830e1b5c0f9a649",
            "521677e76a11457b997f2bf34948eb43",
            "fc5251d6275446fe88dd2b0b95ef99a5",
            "609ffada92974716bc6821ea902e990c",
            "dec6dbeab6294a94bd94b691ff4f3c92",
            "1617f4b7300f433f97ba83fcc604c5a6"
          ]
        },
        "id": "sjtz9EKPCGOv",
        "outputId": "2069cb40-c37a-4334-aefd-16504bbc8010"
      },
      "outputs": [
        {
          "name": "stdout",
          "output_type": "stream",
          "text": [
            "trainable params: 10641448 || all params: 1219837997 || trainable%: 0.8723656769317705\n",
            "ProtT5_Classfier\n",
            "Trainable Parameter: 10641448\n"
          ]
        },
        {
          "name": "stderr",
          "output_type": "stream",
          "text": [
            "/usr/local/lib/python3.10/dist-packages/torch/utils/checkpoint.py:90: UserWarning: None of the inputs have requires_grad=True. Gradients will be None\n",
            "  warnings.warn(\n"
          ]
        },
        {
          "data": {
            "text/html": [
              "\n",
              "    <div>\n",
              "      \n",
              "      <progress value='798' max='798' style='width:300px; height:20px; vertical-align: middle;'></progress>\n",
              "      [798/798 4:21:00, Epoch 1/2]\n",
              "    </div>\n",
              "    <table border=\"1\" class=\"dataframe\">\n",
              "  <thead>\n",
              " <tr style=\"text-align: left;\">\n",
              "      <th>Epoch</th>\n",
              "      <th>Training Loss</th>\n",
              "      <th>Validation Loss</th>\n",
              "      <th>Accuracy</th>\n",
              "    </tr>\n",
              "  </thead>\n",
              "  <tbody>\n",
              "    <tr>\n",
              "      <td>0</td>\n",
              "      <td>1.953100</td>\n",
              "      <td>1.996433</td>\n",
              "      <td>0.257384</td>\n",
              "    </tr>\n",
              "    <tr>\n",
              "      <td>1</td>\n",
              "      <td>1.943700</td>\n",
              "      <td>1.996433</td>\n",
              "      <td>0.257384</td>\n",
              "    </tr>\n",
              "  </tbody>\n",
              "</table><p>"
            ],
            "text/plain": [
              "<IPython.core.display.HTML object>"
            ]
          },
          "metadata": {},
          "output_type": "display_data"
        },
        {
          "data": {
            "application/vnd.jupyter.widget-view+json": {
              "model_id": "6559e8738b064303a88255a96dd70bc9",
              "version_major": 2,
              "version_minor": 0
            },
            "text/plain": [
              "Downloading builder script:   0%|          | 0.00/4.20k [00:00<?, ?B/s]"
            ]
          },
          "metadata": {},
          "output_type": "display_data"
        },
        {
          "name": "stderr",
          "output_type": "stream",
          "text": [
            "/usr/local/lib/python3.10/dist-packages/torch/utils/checkpoint.py:90: UserWarning: None of the inputs have requires_grad=True. Gradients will be None\n",
            "  warnings.warn(\n"
          ]
        }
      ],
      "source": [
        "tokenizer, model, history = train_per_protein(my_train,my_valid,num_labels=5,batch=2,accum=8, epochs=2,seed=42)"
      ]
    }
  ],
  "metadata": {
    "accelerator": "GPU",
    "colab": {
      "gpuType": "T4",
      "machine_shape": "hm",
      "provenance": [],
      "include_colab_link": true
    },
    "kernelspec": {
      "display_name": "Python 3",
      "name": "python3"
    },
    "language_info": {
      "name": "python"
    },
    "widgets": {
      "application/vnd.jupyter.widget-state+json": {
        "132964e45a3243ae8c9b1f94ed048f70": {
          "model_module": "@jupyter-widgets/base",
          "model_module_version": "1.2.0",
          "model_name": "LayoutModel",
          "state": {
            "_model_module": "@jupyter-widgets/base",
            "_model_module_version": "1.2.0",
            "_model_name": "LayoutModel",
            "_view_count": null,
            "_view_module": "@jupyter-widgets/base",
            "_view_module_version": "1.2.0",
            "_view_name": "LayoutView",
            "align_content": null,
            "align_items": null,
            "align_self": null,
            "border": null,
            "bottom": null,
            "display": null,
            "flex": null,
            "flex_flow": null,
            "grid_area": null,
            "grid_auto_columns": null,
            "grid_auto_flow": null,
            "grid_auto_rows": null,
            "grid_column": null,
            "grid_gap": null,
            "grid_row": null,
            "grid_template_areas": null,
            "grid_template_columns": null,
            "grid_template_rows": null,
            "height": null,
            "justify_content": null,
            "justify_items": null,
            "left": null,
            "margin": null,
            "max_height": null,
            "max_width": null,
            "min_height": null,
            "min_width": null,
            "object_fit": null,
            "object_position": null,
            "order": null,
            "overflow": null,
            "overflow_x": null,
            "overflow_y": null,
            "padding": null,
            "right": null,
            "top": null,
            "visibility": null,
            "width": null
          }
        },
        "1617f4b7300f433f97ba83fcc604c5a6": {
          "model_module": "@jupyter-widgets/controls",
          "model_module_version": "1.5.0",
          "model_name": "DescriptionStyleModel",
          "state": {
            "_model_module": "@jupyter-widgets/controls",
            "_model_module_version": "1.5.0",
            "_model_name": "DescriptionStyleModel",
            "_view_count": null,
            "_view_module": "@jupyter-widgets/base",
            "_view_module_version": "1.2.0",
            "_view_name": "StyleView",
            "description_width": ""
          }
        },
        "521677e76a11457b997f2bf34948eb43": {
          "model_module": "@jupyter-widgets/controls",
          "model_module_version": "1.5.0",
          "model_name": "DescriptionStyleModel",
          "state": {
            "_model_module": "@jupyter-widgets/controls",
            "_model_module_version": "1.5.0",
            "_model_name": "DescriptionStyleModel",
            "_view_count": null,
            "_view_module": "@jupyter-widgets/base",
            "_view_module_version": "1.2.0",
            "_view_name": "StyleView",
            "description_width": ""
          }
        },
        "609ffada92974716bc6821ea902e990c": {
          "model_module": "@jupyter-widgets/controls",
          "model_module_version": "1.5.0",
          "model_name": "ProgressStyleModel",
          "state": {
            "_model_module": "@jupyter-widgets/controls",
            "_model_module_version": "1.5.0",
            "_model_name": "ProgressStyleModel",
            "_view_count": null,
            "_view_module": "@jupyter-widgets/base",
            "_view_module_version": "1.2.0",
            "_view_name": "StyleView",
            "bar_color": null,
            "description_width": ""
          }
        },
        "6559e8738b064303a88255a96dd70bc9": {
          "model_module": "@jupyter-widgets/controls",
          "model_module_version": "1.5.0",
          "model_name": "HBoxModel",
          "state": {
            "_dom_classes": [],
            "_model_module": "@jupyter-widgets/controls",
            "_model_module_version": "1.5.0",
            "_model_name": "HBoxModel",
            "_view_count": null,
            "_view_module": "@jupyter-widgets/controls",
            "_view_module_version": "1.5.0",
            "_view_name": "HBoxView",
            "box_style": "",
            "children": [
              "IPY_MODEL_ba407e2034174f51b443261cc4afa472",
              "IPY_MODEL_d03ecce9c5b54ce197f2c1ffc6d4f8ce",
              "IPY_MODEL_e0b1a777e68e47f39fd9cf8a4df2de0c"
            ],
            "layout": "IPY_MODEL_132964e45a3243ae8c9b1f94ed048f70"
          }
        },
        "ba407e2034174f51b443261cc4afa472": {
          "model_module": "@jupyter-widgets/controls",
          "model_module_version": "1.5.0",
          "model_name": "HTMLModel",
          "state": {
            "_dom_classes": [],
            "_model_module": "@jupyter-widgets/controls",
            "_model_module_version": "1.5.0",
            "_model_name": "HTMLModel",
            "_view_count": null,
            "_view_module": "@jupyter-widgets/controls",
            "_view_module_version": "1.5.0",
            "_view_name": "HTMLView",
            "description": "",
            "description_tooltip": null,
            "layout": "IPY_MODEL_fc2705bef1c84bafb830e1b5c0f9a649",
            "placeholder": "​",
            "style": "IPY_MODEL_521677e76a11457b997f2bf34948eb43",
            "value": "Downloading builder script: 100%"
          }
        },
        "d03ecce9c5b54ce197f2c1ffc6d4f8ce": {
          "model_module": "@jupyter-widgets/controls",
          "model_module_version": "1.5.0",
          "model_name": "FloatProgressModel",
          "state": {
            "_dom_classes": [],
            "_model_module": "@jupyter-widgets/controls",
            "_model_module_version": "1.5.0",
            "_model_name": "FloatProgressModel",
            "_view_count": null,
            "_view_module": "@jupyter-widgets/controls",
            "_view_module_version": "1.5.0",
            "_view_name": "ProgressView",
            "bar_style": "success",
            "description": "",
            "description_tooltip": null,
            "layout": "IPY_MODEL_fc5251d6275446fe88dd2b0b95ef99a5",
            "max": 4203,
            "min": 0,
            "orientation": "horizontal",
            "style": "IPY_MODEL_609ffada92974716bc6821ea902e990c",
            "value": 4203
          }
        },
        "dec6dbeab6294a94bd94b691ff4f3c92": {
          "model_module": "@jupyter-widgets/base",
          "model_module_version": "1.2.0",
          "model_name": "LayoutModel",
          "state": {
            "_model_module": "@jupyter-widgets/base",
            "_model_module_version": "1.2.0",
            "_model_name": "LayoutModel",
            "_view_count": null,
            "_view_module": "@jupyter-widgets/base",
            "_view_module_version": "1.2.0",
            "_view_name": "LayoutView",
            "align_content": null,
            "align_items": null,
            "align_self": null,
            "border": null,
            "bottom": null,
            "display": null,
            "flex": null,
            "flex_flow": null,
            "grid_area": null,
            "grid_auto_columns": null,
            "grid_auto_flow": null,
            "grid_auto_rows": null,
            "grid_column": null,
            "grid_gap": null,
            "grid_row": null,
            "grid_template_areas": null,
            "grid_template_columns": null,
            "grid_template_rows": null,
            "height": null,
            "justify_content": null,
            "justify_items": null,
            "left": null,
            "margin": null,
            "max_height": null,
            "max_width": null,
            "min_height": null,
            "min_width": null,
            "object_fit": null,
            "object_position": null,
            "order": null,
            "overflow": null,
            "overflow_x": null,
            "overflow_y": null,
            "padding": null,
            "right": null,
            "top": null,
            "visibility": null,
            "width": null
          }
        },
        "e0b1a777e68e47f39fd9cf8a4df2de0c": {
          "model_module": "@jupyter-widgets/controls",
          "model_module_version": "1.5.0",
          "model_name": "HTMLModel",
          "state": {
            "_dom_classes": [],
            "_model_module": "@jupyter-widgets/controls",
            "_model_module_version": "1.5.0",
            "_model_name": "HTMLModel",
            "_view_count": null,
            "_view_module": "@jupyter-widgets/controls",
            "_view_module_version": "1.5.0",
            "_view_name": "HTMLView",
            "description": "",
            "description_tooltip": null,
            "layout": "IPY_MODEL_dec6dbeab6294a94bd94b691ff4f3c92",
            "placeholder": "​",
            "style": "IPY_MODEL_1617f4b7300f433f97ba83fcc604c5a6",
            "value": " 4.20k/4.20k [00:00&lt;00:00, 318kB/s]"
          }
        },
        "fc2705bef1c84bafb830e1b5c0f9a649": {
          "model_module": "@jupyter-widgets/base",
          "model_module_version": "1.2.0",
          "model_name": "LayoutModel",
          "state": {
            "_model_module": "@jupyter-widgets/base",
            "_model_module_version": "1.2.0",
            "_model_name": "LayoutModel",
            "_view_count": null,
            "_view_module": "@jupyter-widgets/base",
            "_view_module_version": "1.2.0",
            "_view_name": "LayoutView",
            "align_content": null,
            "align_items": null,
            "align_self": null,
            "border": null,
            "bottom": null,
            "display": null,
            "flex": null,
            "flex_flow": null,
            "grid_area": null,
            "grid_auto_columns": null,
            "grid_auto_flow": null,
            "grid_auto_rows": null,
            "grid_column": null,
            "grid_gap": null,
            "grid_row": null,
            "grid_template_areas": null,
            "grid_template_columns": null,
            "grid_template_rows": null,
            "height": null,
            "justify_content": null,
            "justify_items": null,
            "left": null,
            "margin": null,
            "max_height": null,
            "max_width": null,
            "min_height": null,
            "min_width": null,
            "object_fit": null,
            "object_position": null,
            "order": null,
            "overflow": null,
            "overflow_x": null,
            "overflow_y": null,
            "padding": null,
            "right": null,
            "top": null,
            "visibility": null,
            "width": null
          }
        },
        "fc5251d6275446fe88dd2b0b95ef99a5": {
          "model_module": "@jupyter-widgets/base",
          "model_module_version": "1.2.0",
          "model_name": "LayoutModel",
          "state": {
            "_model_module": "@jupyter-widgets/base",
            "_model_module_version": "1.2.0",
            "_model_name": "LayoutModel",
            "_view_count": null,
            "_view_module": "@jupyter-widgets/base",
            "_view_module_version": "1.2.0",
            "_view_name": "LayoutView",
            "align_content": null,
            "align_items": null,
            "align_self": null,
            "border": null,
            "bottom": null,
            "display": null,
            "flex": null,
            "flex_flow": null,
            "grid_area": null,
            "grid_auto_columns": null,
            "grid_auto_flow": null,
            "grid_auto_rows": null,
            "grid_column": null,
            "grid_gap": null,
            "grid_row": null,
            "grid_template_areas": null,
            "grid_template_columns": null,
            "grid_template_rows": null,
            "height": null,
            "justify_content": null,
            "justify_items": null,
            "left": null,
            "margin": null,
            "max_height": null,
            "max_width": null,
            "min_height": null,
            "min_width": null,
            "object_fit": null,
            "object_position": null,
            "order": null,
            "overflow": null,
            "overflow_x": null,
            "overflow_y": null,
            "padding": null,
            "right": null,
            "top": null,
            "visibility": null,
            "width": null
          }
        }
      }
    }
  },
  "nbformat": 4,
  "nbformat_minor": 0
}